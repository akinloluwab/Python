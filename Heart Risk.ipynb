{
 "cells": [
  {
   "cell_type": "code",
   "execution_count": 9,
   "id": "adc3a1ca",
   "metadata": {},
   "outputs": [
    {
     "data": {
      "text/html": [
       "<div>\n",
       "<style scoped>\n",
       "    .dataframe tbody tr th:only-of-type {\n",
       "        vertical-align: middle;\n",
       "    }\n",
       "\n",
       "    .dataframe tbody tr th {\n",
       "        vertical-align: top;\n",
       "    }\n",
       "\n",
       "    .dataframe thead th {\n",
       "        text-align: right;\n",
       "    }\n",
       "</style>\n",
       "<table border=\"1\" class=\"dataframe\">\n",
       "  <thead>\n",
       "    <tr style=\"text-align: right;\">\n",
       "      <th></th>\n",
       "      <th>isMale</th>\n",
       "      <th>isBlack</th>\n",
       "      <th>isSmoker</th>\n",
       "      <th>isDiabetic</th>\n",
       "      <th>isHypertensive</th>\n",
       "      <th>Age</th>\n",
       "      <th>Systolic</th>\n",
       "      <th>Cholesterol</th>\n",
       "      <th>HDL</th>\n",
       "      <th>Risk</th>\n",
       "    </tr>\n",
       "  </thead>\n",
       "  <tbody>\n",
       "    <tr>\n",
       "      <th>0</th>\n",
       "      <td>1</td>\n",
       "      <td>1</td>\n",
       "      <td>0</td>\n",
       "      <td>1</td>\n",
       "      <td>1</td>\n",
       "      <td>49</td>\n",
       "      <td>101</td>\n",
       "      <td>181</td>\n",
       "      <td>32</td>\n",
       "      <td>11.1</td>\n",
       "    </tr>\n",
       "    <tr>\n",
       "      <th>1</th>\n",
       "      <td>0</td>\n",
       "      <td>0</td>\n",
       "      <td>0</td>\n",
       "      <td>1</td>\n",
       "      <td>1</td>\n",
       "      <td>69</td>\n",
       "      <td>167</td>\n",
       "      <td>155</td>\n",
       "      <td>59</td>\n",
       "      <td>30.1</td>\n",
       "    </tr>\n",
       "    <tr>\n",
       "      <th>2</th>\n",
       "      <td>0</td>\n",
       "      <td>1</td>\n",
       "      <td>1</td>\n",
       "      <td>1</td>\n",
       "      <td>1</td>\n",
       "      <td>50</td>\n",
       "      <td>181</td>\n",
       "      <td>147</td>\n",
       "      <td>59</td>\n",
       "      <td>37.6</td>\n",
       "    </tr>\n",
       "    <tr>\n",
       "      <th>3</th>\n",
       "      <td>1</td>\n",
       "      <td>1</td>\n",
       "      <td>1</td>\n",
       "      <td>1</td>\n",
       "      <td>0</td>\n",
       "      <td>42</td>\n",
       "      <td>145</td>\n",
       "      <td>166</td>\n",
       "      <td>46</td>\n",
       "      <td>13.2</td>\n",
       "    </tr>\n",
       "    <tr>\n",
       "      <th>4</th>\n",
       "      <td>0</td>\n",
       "      <td>0</td>\n",
       "      <td>1</td>\n",
       "      <td>0</td>\n",
       "      <td>1</td>\n",
       "      <td>66</td>\n",
       "      <td>134</td>\n",
       "      <td>199</td>\n",
       "      <td>63</td>\n",
       "      <td>15.1</td>\n",
       "    </tr>\n",
       "  </tbody>\n",
       "</table>\n",
       "</div>"
      ],
      "text/plain": [
       "   isMale  isBlack  isSmoker  isDiabetic  isHypertensive  Age  Systolic  \\\n",
       "0       1        1         0           1               1   49       101   \n",
       "1       0        0         0           1               1   69       167   \n",
       "2       0        1         1           1               1   50       181   \n",
       "3       1        1         1           1               0   42       145   \n",
       "4       0        0         1           0               1   66       134   \n",
       "\n",
       "   Cholesterol  HDL  Risk  \n",
       "0          181   32  11.1  \n",
       "1          155   59  30.1  \n",
       "2          147   59  37.6  \n",
       "3          166   46  13.2  \n",
       "4          199   63  15.1  "
      ]
     },
     "execution_count": 9,
     "metadata": {},
     "output_type": "execute_result"
    }
   ],
   "source": [
    "import pandas as pd\n",
    "df = pd.read_excel('heartRisk.xlsx')\n",
    "df.head()"
   ]
  },
  {
   "cell_type": "code",
   "execution_count": 2,
   "id": "6fb989d1",
   "metadata": {},
   "outputs": [
    {
     "name": "stdout",
     "output_type": "stream",
     "text": [
      "   Systolic  Cholesterol\n",
      "0       101          181\n",
      "1       167          155\n",
      "2       181          147\n",
      "3       145          166\n",
      "4       134          199\n"
     ]
    }
   ],
   "source": [
    "df1 = pd.DataFrame(df, columns = ['Systolic', 'Cholesterol'])\n",
    "print(df1.head())"
   ]
  },
  {
   "cell_type": "code",
   "execution_count": 3,
   "id": "972dc592",
   "metadata": {},
   "outputs": [
    {
     "data": {
      "image/png": "[encoded data removed]",
      "text/plain": [
       "<Figure size 432x288 with 1 Axes>"
      ]
     },
     "metadata": {
      "needs_background": "light"
     },
     "output_type": "display_data"
    }
   ],
   "source": [
    "df2 = df[['isMale','isDiabetic','Age']]\n",
    "df2_group = df2.groupby('isMale')\n",
    "summation = df2_group.sum()\n",
    "\n",
    "data = pd.DataFrame(data = summation)\n",
    "result = data.sort_values(by=['Age'], ascending = True)\n",
    "myplot = result.plot(kind = 'bar', rot = 90, color = \"yellow\", title = \"A Graph of \", legend = 'lower left')\n"
   ]
  },
  {
   "cell_type": "code",
   "execution_count": 4,
   "id": "7f76e91f",
   "metadata": {},
   "outputs": [
    {
     "data": {
      "text/plain": [
       "<matplotlib.collections.PathCollection at 0x28bd4b5a370>"
      ]
     },
     "execution_count": 4,
     "metadata": {},
     "output_type": "execute_result"
    },
    {
     "data": {
      "image/png": "[encoded data removed]",
      "text/plain": [
       "<Figure size 432x288 with 1 Axes>"
      ]
     },
     "metadata": {
      "needs_background": "light"
     },
     "output_type": "display_data"
    }
   ],
   "source": [
    "import matplotlib.pyplot as plt\n",
    "import numpy as np\n",
    "import pandas as pd\n",
    "from sklearn import datasets, linear_model\n",
    "from sklearn.linear_model import LinearRegression\n",
    "from sklearn.model_selection import train_test_split\n",
    "from sklearn.metrics import mean_squared_error, r2_score\n",
    "\n",
    "risk_x = df[['Cholesterol']]\n",
    "risk_y = df[['Risk']]\n",
    "plt.scatter(risk_x, risk_y)"
   ]
  },
  {
   "cell_type": "code",
   "execution_count": 5,
   "id": "57e37e45",
   "metadata": {},
   "outputs": [
    {
     "name": "stdout",
     "output_type": "stream",
     "text": [
      "     Cholesterol\n",
      "655          162\n",
      "333          163\n",
      "164          193\n",
      "588          146\n",
      "246          190\n",
      "..           ...\n",
      "239          176\n",
      "456          186\n",
      "1            155\n",
      "388          150\n",
      "109          131\n",
      "\n",
      "[800 rows x 1 columns]\n",
      "\n",
      "\n",
      "     Risk\n",
      "655  51.9\n",
      "333   2.2\n",
      "164  17.0\n",
      "588  27.6\n",
      "246   4.2\n",
      "..    ...\n",
      "239  50.5\n",
      "456   2.5\n",
      "1    30.1\n",
      "388  35.5\n",
      "109   3.1\n",
      "\n",
      "[800 rows x 1 columns]\n",
      "\n",
      "\n",
      "     Cholesterol\n",
      "422          199\n",
      "157          186\n",
      "166          174\n",
      "507          137\n",
      "262          164\n",
      "..           ...\n",
      "253          146\n",
      "177          166\n",
      "144          170\n",
      "717          153\n",
      "997          179\n",
      "\n",
      "[200 rows x 1 columns]\n",
      "\n",
      "\n",
      "The predicted Risk value for Cholesterol = 60 is:  [[15.22009906]]\n",
      "Coefficients: \n",
      " [[0.0408427]]\n",
      "\n",
      "\n",
      "Mean squared error:  294.009492724774\n",
      "Coefficient of determination:  0.0015804107600088102\n"
     ]
    },
    {
     "data": {
      "image/png": "[encoded data removed]",
      "text/plain": [
       "<Figure size 432x288 with 1 Axes>"
      ]
     },
     "metadata": {},
     "output_type": "display_data"
    }
   ],
   "source": [
    "X_train,X_test,y_train,y_test=train_test_split(risk_x, risk_y,test_size=0.2)\n",
    "print(X_train)\n",
    "print(\"\\n\")\n",
    "print(y_train)\n",
    "print(\"\\n\")\n",
    "print(X_test)\n",
    " \n",
    "regr = LinearRegression()\n",
    " \n",
    "\n",
    "regr.fit(X_train, y_train)\n",
    " \n",
    "\n",
    "y_pred = regr.predict(X_test)\n",
    "y_pred2 = regr.predict([[60]])\n",
    "print(\"\\n\")\n",
    "print(\"The predicted Risk value for Cholesterol = 60 is: \", y_pred2)\n",
    " \n",
    "\n",
    "print('Coefficients: \\n', regr.coef_)\n",
    "print(\"\\n\")\n",
    " \n",
    "# The mean squared error\n",
    "print('Mean squared error: ', mean_squared_error(y_test, y_pred))\n",
    "# The coefficient of determination: 1 is perfect prediction\n",
    "print('Coefficient of determination: ', r2_score(y_test, y_pred))\n",
    " \n",
    " # Plot outputs\n",
    "plt.scatter(X_test, y_test,  color='black')\n",
    "plt.plot(X_test, y_pred, color='blue', linewidth=3)\n",
    " \n",
    "plt.xticks(())\n",
    "plt.yticks(())\n",
    " \n",
    "plt.show()\n",
    "\n"
   ]
  },
  {
   "cell_type": "code",
   "execution_count": 6,
   "id": "0c31da8e",
   "metadata": {},
   "outputs": [
    {
     "name": "stdout",
     "output_type": "stream",
     "text": [
      "     isMale  isBlack  isSmoker  isDiabetic  isHypertensive  Age  Systolic  \\\n",
      "985       1        0         0           1               0   62       177   \n",
      "46        0        1         1           0               0   57       161   \n",
      "274       1        1         0           0               1   68        99   \n",
      "582       0        1         1           1               1   63       153   \n",
      "860       0        1         0           0               0   57       159   \n",
      "..      ...      ...       ...         ...             ...  ...       ...   \n",
      "628       0        1         0           1               1   42       174   \n",
      "881       0        0         0           0               1   52       192   \n",
      "317       1        1         1           0               1   52       112   \n",
      "441       1        0         0           1               0   51       109   \n",
      "13        1        1         1           0               1   61       129   \n",
      "\n",
      "     Cholesterol  HDL  \n",
      "985          145   82  \n",
      "46           198   30  \n",
      "274          166   61  \n",
      "582          132   71  \n",
      "860          169   54  \n",
      "..           ...  ...  \n",
      "628          178   40  \n",
      "881          170   24  \n",
      "317          139   99  \n",
      "441          174   44  \n",
      "13           156   71  \n",
      "\n",
      "[800 rows x 9 columns]\n",
      "\n",
      "\n",
      "     Risk\n",
      "985  17.9\n",
      "46   23.7\n",
      "274  10.1\n",
      "582  32.8\n",
      "860   6.7\n",
      "..    ...\n",
      "628  32.0\n",
      "881   9.2\n",
      "317   9.4\n",
      "441   5.2\n",
      "13   19.7\n",
      "\n",
      "[800 rows x 1 columns]\n",
      "\n",
      "\n",
      "     isMale  isBlack  isSmoker  isDiabetic  isHypertensive  Age  Systolic  \\\n",
      "113       1        0         1           0               0   75       159   \n",
      "328       1        0         0           0               1   71       122   \n",
      "620       0        1         1           1               1   44       117   \n",
      "171       0        0         1           1               0   61        92   \n",
      "840       0        1         1           0               0   51       107   \n",
      "..      ...      ...       ...         ...             ...  ...       ...   \n",
      "62        0        0         1           1               1   44       157   \n",
      "183       0        1         0           0               0   51       149   \n",
      "637       0        1         0           0               0   62       140   \n",
      "564       1        0         0           0               1   60       138   \n",
      "270       1        0         1           1               1   76       137   \n",
      "\n",
      "     Cholesterol  HDL  \n",
      "113          150   37  \n",
      "328          141   54  \n",
      "620          169   40  \n",
      "171          164   22  \n",
      "840          184   55  \n",
      "..           ...  ...  \n",
      "62           130   61  \n",
      "183          155   35  \n",
      "637          157   45  \n",
      "564          192   32  \n",
      "270          146   81  \n",
      "\n",
      "[200 rows x 9 columns]\n",
      "Enter value for isMale:1\n",
      "Enter value for isBlack:1\n",
      "Enter value for isSmoker:0\n",
      "Enter value for isDiabetic:0\n",
      "Enter value for isHypertensive:1\n",
      "Enter value for Age:43\n",
      "Enter value for Systolic:123\n",
      "Enter value for Cholesterol:147\n",
      "Enter value for HDL:61\n"
     ]
    },
    {
     "name": "stderr",
     "output_type": "stream",
     "text": [
      "C:\\Users\\DEAN\\anaconda3\\lib\\site-packages\\sklearn\\utils\\validation.py:63: FutureWarning: Arrays of bytes/strings is being converted to decimal numbers if dtype='numeric'. This behavior is deprecated in 0.24 and will be removed in 1.1 (renaming of 0.26). Please convert your data to numeric values explicitly instead.\n",
      "  return f(*args, **kwargs)\n"
     ]
    },
    {
     "name": "stdout",
     "output_type": "stream",
     "text": [
      "\n",
      "\n",
      "Predicted Risk value:  [[-4.22915885]]\n",
      "\n",
      "\n",
      "Coefficients: \n",
      " [[ 4.68730378  2.73950789  8.69180685 10.53772683  5.14783117  0.90217955\n",
      "   0.2032803   0.0624525  -0.09204766]]\n",
      "\n",
      "\n",
      "Mean squared error:  74.37695944504523\n",
      "Coefficient of determination:  0.7842318133727513\n",
      "                            OLS Regression Results                            \n",
      "==============================================================================\n",
      "Dep. Variable:                   Risk   R-squared:                       0.796\n",
      "Model:                            OLS   Adj. R-squared:                  0.794\n",
      "Method:                 Least Squares   F-statistic:                     429.1\n",
      "Date:                Fri, 03 Sep 2021   Prob (F-statistic):               0.00\n",
      "Time:                        20:19:08   Log-Likelihood:                -3459.5\n",
      "No. Observations:                1000   AIC:                             6939.\n",
      "Df Residuals:                     990   BIC:                             6988.\n",
      "Df Model:                           9                                         \n",
      "Covariance Type:            nonrobust                                         \n",
      "==================================================================================\n",
      "                     coef    std err          t      P>|t|      [0.025      0.975]\n",
      "----------------------------------------------------------------------------------\n",
      "const            -86.2294      2.744    -31.421      0.000     -91.615     -80.844\n",
      "isMale             4.6934      0.490      9.572      0.000       3.731       5.656\n",
      "isBlack            2.7301      0.493      5.537      0.000       1.762       3.698\n",
      "isSmoker           8.7452      0.491     17.807      0.000       7.781       9.709\n",
      "isDiabetic        10.6387      0.492     21.631      0.000       9.674      11.604\n",
      "isHypertensive     4.8681      0.490      9.930      0.000       3.906       5.830\n",
      "Age                0.9185      0.021     43.132      0.000       0.877       0.960\n",
      "Systolic           0.2110      0.008     27.264      0.000       0.196       0.226\n",
      "Cholesterol        0.0669      0.012      5.544      0.000       0.043       0.091\n",
      "HDL               -0.1010      0.010     -9.828      0.000      -0.121      -0.081\n",
      "==============================================================================\n",
      "Omnibus:                      136.901   Durbin-Watson:                   2.002\n",
      "Prob(Omnibus):                  0.000   Jarque-Bera (JB):              220.487\n",
      "Skew:                           0.906   Prob(JB):                     1.32e-48\n",
      "Kurtosis:                       4.417   Cond. No.                     2.64e+03\n",
      "==============================================================================\n",
      "\n",
      "Notes:\n",
      "[1] Standard Errors assume that the covariance matrix of the errors is correctly specified.\n",
      "[2] The condition number is large, 2.64e+03. This might indicate that there are\n",
      "strong multicollinearity or other numerical problems.\n"
     ]
    }
   ],
   "source": [
    "import statsmodels.api as sm\n",
    "\n",
    "risk1_x = df[['isMale', 'isBlack' , 'isSmoker', 'isDiabetic', 'isHypertensive', 'Age', 'Systolic', 'Cholesterol','HDL']]\n",
    "risk1_y = df[['Risk']]\n",
    " \n",
    "#Split the dataset into training and testing sets (80%:20%)\n",
    "X_train1, X_test1, y_train1, y_test1 = train_test_split(risk1_x, risk1_y, test_size=0.2)\n",
    "print(X_train1)\n",
    "print(\"\\n\")\n",
    "print(y_train1)\n",
    "print(\"\\n\")\n",
    "print(X_test1)\n",
    " \n",
    "#Create linear regression object\n",
    "regr = LinearRegression()\n",
    " \n",
    "# Train the model using the training sets \n",
    "regr.fit(X_train1, y_train1)\n",
    " \n",
    "# Make predictions using the testing set\n",
    "y_pred1 = regr.predict(X_test1)\n",
    " \n",
    "pisMale = input(\"Enter value for isMale:\")\n",
    "pisBlack = input(\"Enter value for isBlack:\")\n",
    "pisSmoker = input(\"Enter value for isSmoker:\")\n",
    "pisDiabetic = input(\"Enter value for isDiabetic:\")\n",
    "pisHypertensive = input(\"Enter value for isHypertensive:\")\n",
    "pAge = input(\"Enter value for Age:\")\n",
    "pSystolic = input(\"Enter value for Systolic:\")\n",
    "pCholesterol = input(\"Enter value for Cholesterol:\")\n",
    "pHDL = input(\"Enter value for HDL:\")\n",
    "print(\"\\n\")\n",
    "print ('Predicted Risk value: ', regr.predict([[pisMale, pisBlack, pisSmoker, pisDiabetic, pisHypertensive, pAge, pSystolic, \n",
    "                                             pCholesterol, pHDL]]))\n",
    "print(\"\\n\")\n",
    " \n",
    "# The coefficients\n",
    "print('Coefficients: \\n', regr.coef_)\n",
    "print(\"\\n\")\n",
    " \n",
    "# The mean squared error\n",
    "print('Mean squared error: ', mean_squared_error(y_test1, y_pred1))\n",
    "# The coefficient of determination: 1 is perfect prediction\n",
    "print('Coefficient of determination: ', r2_score(y_test1, y_pred1))\n",
    " \n",
    "#Use statsmodel for model summary\n",
    "risk1_x = sm.add_constant(risk1_x)\n",
    "model = sm.OLS(risk1_y, risk1_x).fit()\n",
    "predictions = model.predict(risk1_x)\n",
    "print_model = model.summary()\n",
    "print(print_model)\n"
   ]
  },
  {
   "cell_type": "code",
   "execution_count": 7,
   "id": "01eeaaf5",
   "metadata": {},
   "outputs": [
    {
     "name": "stdout",
     "output_type": "stream",
     "text": [
      "           isMale      isBlack     isSmoker   isDiabetic  isHypertensive  \\\n",
      "count  1000.00000  1000.000000  1000.000000  1000.000000     1000.000000   \n",
      "mean      0.49000     0.530000     0.516000     0.522000        0.495000   \n",
      "std       0.50015     0.499349     0.499994     0.499766        0.500225   \n",
      "min       0.00000     0.000000     0.000000     0.000000        0.000000   \n",
      "25%       0.00000     0.000000     0.000000     0.000000        0.000000   \n",
      "50%       0.00000     1.000000     1.000000     1.000000        0.000000   \n",
      "75%       1.00000     1.000000     1.000000     1.000000        1.000000   \n",
      "max       1.00000     1.000000     1.000000     1.000000        1.000000   \n",
      "\n",
      "               Age     Systolic  Cholesterol          HDL         Risk  \n",
      "count  1000.000000  1000.000000  1000.000000  1000.000000  1000.000000  \n",
      "mean     59.107000   144.249000   164.043000    59.603000    19.667000  \n",
      "std      11.536492    31.774528    20.329891    23.863505    17.043941  \n",
      "min      40.000000    90.000000   130.000000    20.000000     0.100000  \n",
      "25%      49.000000   117.000000   146.000000    39.000000     6.300000  \n",
      "50%      59.000000   144.000000   164.000000    59.000000    14.400000  \n",
      "75%      69.000000   171.000000   182.000000    81.000000    29.000000  \n",
      "max      79.000000   200.000000   200.000000   100.000000    85.400000  \n",
      "\n",
      "\n"
     ]
    }
   ],
   "source": [
    "from sklearn.tree import DecisionTreeClassifier \n",
    "from sklearn.model_selection import train_test_split \n",
    "from sklearn import metrics \n",
    "from sklearn.metrics import confusion_matrix\n",
    "\n",
    "print(df.describe())\n",
    "print(\"\\n\")\n"
   ]
  },
  {
   "cell_type": "code",
   "execution_count": 18,
   "id": "bf4db798",
   "metadata": {},
   "outputs": [
    {
     "name": "stderr",
     "output_type": "stream",
     "text": [
      "C:\\Users\\DEAN\\anaconda3\\lib\\site-packages\\sklearn\\utils\\validation.py:63: DataConversionWarning: A column-vector y was passed when a 1d array was expected. Please change the shape of y to (n_samples, ), for example using ravel().\n",
      "  return f(*args, **kwargs)\n"
     ]
    },
    {
     "name": "stdout",
     "output_type": "stream",
     "text": [
      "\n",
      "\n",
      "Accuracy for 70% training set and 30% test set: 0.01\n",
      "Enter value for isMale:1\n",
      "Enter value for isBlack:1\n",
      "Enter value for isSmoker:0\n",
      "Enter value for isDiabetic:0\n",
      "Enter value for isHypertensive:1\n",
      "Enter value for Age:45\n",
      "Enter value for Systolic:123\n",
      "Enter value for Cholesterol:123\n",
      "Enter value for HDL:45\n",
      "Predicted Risk value:  [208]\n"
     ]
    }
   ],
   "source": [
    "feature_cols =  ['isMale', 'isBlack' , 'isSmoker', 'isDiabetic', 'isHypertensive', 'Age', 'Systolic', 'Cholesterol','HDL']\n",
    "risk2_x = df[feature_cols] \n",
    "risk2_y = df['Risk'] \n",
    "\n",
    "\n",
    "from sklearn import preprocessing\n",
    "from sklearn import utils\n",
    "\n",
    "\n",
    "lab_enc = preprocessing.LabelEncoder()\n",
    "risk2_y = lab_enc.fit_transform(risk2_y)\n",
    "\n",
    "X_train2, X_test2, y_train2, y_test2 = train_test_split(risk2_x, risk2_y, test_size=0.2, random_state=1)\n",
    "\n",
    "clf = DecisionTreeClassifier()\n",
    "\n",
    "clf = clf.fit(X_train2, y_train2)\n",
    "y_pred = clf.predict(X_test2)\n",
    "\n",
    "\n",
    "print(\"\\n\")\n",
    "print(\"Accuracy for 70% training set and 30% test set:\",\n",
    "          metrics.accuracy_score(y_test2, y_pred))\n",
    "\n",
    "visMale = input(\"Enter value for isMale:\")\n",
    "visBlack = input(\"Enter value for isBlack:\")\n",
    "visSmoker = input(\"Enter value for isSmoker:\")\n",
    "visDiabetic = input(\"Enter value for isDiabetic:\")\n",
    "visHypertensive = input(\"Enter value for isHypertensive:\")\n",
    "vAge = input(\"Enter value for Age:\")\n",
    "vSystolic = input(\"Enter value for Systolic:\")\n",
    "vCholesterol = input(\"Enter value for Cholesterol:\")\n",
    "vHDL = input(\"Enter value for HDL:\")\n",
    "print ('Predicted Risk value: ', clf.predict([[visMale, visBlack, visSmoker, visDiabetic, visHypertensive, vAge, vSystolic, \n",
    "                                             vCholesterol, vHDL]]))"
   ]
  },
  {
   "cell_type": "code",
   "execution_count": 21,
   "id": "02a489eb",
   "metadata": {},
   "outputs": [
    {
     "data": {
      "text/html": [
       "<div>\n",
       "<style scoped>\n",
       "    .dataframe tbody tr th:only-of-type {\n",
       "        vertical-align: middle;\n",
       "    }\n",
       "\n",
       "    .dataframe tbody tr th {\n",
       "        vertical-align: top;\n",
       "    }\n",
       "\n",
       "    .dataframe thead th {\n",
       "        text-align: right;\n",
       "    }\n",
       "</style>\n",
       "<table border=\"1\" class=\"dataframe\">\n",
       "  <thead>\n",
       "    <tr style=\"text-align: right;\">\n",
       "      <th></th>\n",
       "      <th>0</th>\n",
       "      <th>1</th>\n",
       "      <th>2</th>\n",
       "      <th>3</th>\n",
       "      <th>4</th>\n",
       "      <th>5</th>\n",
       "      <th>6</th>\n",
       "      <th>7</th>\n",
       "      <th>8</th>\n",
       "    </tr>\n",
       "  </thead>\n",
       "  <tbody>\n",
       "    <tr>\n",
       "      <th>0</th>\n",
       "      <td>1.0</td>\n",
       "      <td>1.0</td>\n",
       "      <td>0.0</td>\n",
       "      <td>1.0</td>\n",
       "      <td>1.0</td>\n",
       "      <td>0.230769</td>\n",
       "      <td>0.100000</td>\n",
       "      <td>0.728571</td>\n",
       "      <td>0.1500</td>\n",
       "    </tr>\n",
       "    <tr>\n",
       "      <th>1</th>\n",
       "      <td>0.0</td>\n",
       "      <td>0.0</td>\n",
       "      <td>0.0</td>\n",
       "      <td>1.0</td>\n",
       "      <td>1.0</td>\n",
       "      <td>0.743590</td>\n",
       "      <td>0.700000</td>\n",
       "      <td>0.357143</td>\n",
       "      <td>0.4875</td>\n",
       "    </tr>\n",
       "    <tr>\n",
       "      <th>2</th>\n",
       "      <td>0.0</td>\n",
       "      <td>1.0</td>\n",
       "      <td>1.0</td>\n",
       "      <td>1.0</td>\n",
       "      <td>1.0</td>\n",
       "      <td>0.256410</td>\n",
       "      <td>0.827273</td>\n",
       "      <td>0.242857</td>\n",
       "      <td>0.4875</td>\n",
       "    </tr>\n",
       "    <tr>\n",
       "      <th>3</th>\n",
       "      <td>1.0</td>\n",
       "      <td>1.0</td>\n",
       "      <td>1.0</td>\n",
       "      <td>1.0</td>\n",
       "      <td>0.0</td>\n",
       "      <td>0.051282</td>\n",
       "      <td>0.500000</td>\n",
       "      <td>0.514286</td>\n",
       "      <td>0.3250</td>\n",
       "    </tr>\n",
       "    <tr>\n",
       "      <th>4</th>\n",
       "      <td>0.0</td>\n",
       "      <td>0.0</td>\n",
       "      <td>1.0</td>\n",
       "      <td>0.0</td>\n",
       "      <td>1.0</td>\n",
       "      <td>0.666667</td>\n",
       "      <td>0.400000</td>\n",
       "      <td>0.985714</td>\n",
       "      <td>0.5375</td>\n",
       "    </tr>\n",
       "    <tr>\n",
       "      <th>...</th>\n",
       "      <td>...</td>\n",
       "      <td>...</td>\n",
       "      <td>...</td>\n",
       "      <td>...</td>\n",
       "      <td>...</td>\n",
       "      <td>...</td>\n",
       "      <td>...</td>\n",
       "      <td>...</td>\n",
       "      <td>...</td>\n",
       "    </tr>\n",
       "    <tr>\n",
       "      <th>995</th>\n",
       "      <td>1.0</td>\n",
       "      <td>0.0</td>\n",
       "      <td>1.0</td>\n",
       "      <td>1.0</td>\n",
       "      <td>1.0</td>\n",
       "      <td>0.051282</td>\n",
       "      <td>0.181818</td>\n",
       "      <td>0.642857</td>\n",
       "      <td>0.5875</td>\n",
       "    </tr>\n",
       "    <tr>\n",
       "      <th>996</th>\n",
       "      <td>0.0</td>\n",
       "      <td>1.0</td>\n",
       "      <td>0.0</td>\n",
       "      <td>1.0</td>\n",
       "      <td>0.0</td>\n",
       "      <td>0.897436</td>\n",
       "      <td>0.300000</td>\n",
       "      <td>0.000000</td>\n",
       "      <td>0.4500</td>\n",
       "    </tr>\n",
       "    <tr>\n",
       "      <th>997</th>\n",
       "      <td>1.0</td>\n",
       "      <td>1.0</td>\n",
       "      <td>1.0</td>\n",
       "      <td>0.0</td>\n",
       "      <td>1.0</td>\n",
       "      <td>0.923077</td>\n",
       "      <td>0.800000</td>\n",
       "      <td>0.700000</td>\n",
       "      <td>0.1250</td>\n",
       "    </tr>\n",
       "    <tr>\n",
       "      <th>998</th>\n",
       "      <td>0.0</td>\n",
       "      <td>1.0</td>\n",
       "      <td>1.0</td>\n",
       "      <td>1.0</td>\n",
       "      <td>0.0</td>\n",
       "      <td>0.641026</td>\n",
       "      <td>0.445455</td>\n",
       "      <td>0.557143</td>\n",
       "      <td>0.5750</td>\n",
       "    </tr>\n",
       "    <tr>\n",
       "      <th>999</th>\n",
       "      <td>0.0</td>\n",
       "      <td>1.0</td>\n",
       "      <td>0.0</td>\n",
       "      <td>0.0</td>\n",
       "      <td>0.0</td>\n",
       "      <td>0.435897</td>\n",
       "      <td>0.836364</td>\n",
       "      <td>0.228571</td>\n",
       "      <td>0.2250</td>\n",
       "    </tr>\n",
       "  </tbody>\n",
       "</table>\n",
       "<p>1000 rows × 9 columns</p>\n",
       "</div>"
      ],
      "text/plain": [
       "       0    1    2    3    4         5         6         7       8\n",
       "0    1.0  1.0  0.0  1.0  1.0  0.230769  0.100000  0.728571  0.1500\n",
       "1    0.0  0.0  0.0  1.0  1.0  0.743590  0.700000  0.357143  0.4875\n",
       "2    0.0  1.0  1.0  1.0  1.0  0.256410  0.827273  0.242857  0.4875\n",
       "3    1.0  1.0  1.0  1.0  0.0  0.051282  0.500000  0.514286  0.3250\n",
       "4    0.0  0.0  1.0  0.0  1.0  0.666667  0.400000  0.985714  0.5375\n",
       "..   ...  ...  ...  ...  ...       ...       ...       ...     ...\n",
       "995  1.0  0.0  1.0  1.0  1.0  0.051282  0.181818  0.642857  0.5875\n",
       "996  0.0  1.0  0.0  1.0  0.0  0.897436  0.300000  0.000000  0.4500\n",
       "997  1.0  1.0  1.0  0.0  1.0  0.923077  0.800000  0.700000  0.1250\n",
       "998  0.0  1.0  1.0  1.0  0.0  0.641026  0.445455  0.557143  0.5750\n",
       "999  0.0  1.0  0.0  0.0  0.0  0.435897  0.836364  0.228571  0.2250\n",
       "\n",
       "[1000 rows x 9 columns]"
      ]
     },
     "execution_count": 21,
     "metadata": {},
     "output_type": "execute_result"
    }
   ],
   "source": [
    "from sklearn import preprocessing\n",
    "\n",
    "sx = preprocessing.MinMaxScaler()\n",
    "sy = preprocessing.MinMaxScaler()\n",
    "\n",
    "scaled_X = sx.fit_transform(df.drop('Risk', axis='columns'))\n",
    "scaled_X1 = pd.DataFrame(scaled_X)\n",
    "scaled_X1"
   ]
  },
  {
   "cell_type": "code",
   "execution_count": 22,
   "id": "407e0976",
   "metadata": {},
   "outputs": [
    {
     "data": {
      "text/html": [
       "<div>\n",
       "<style scoped>\n",
       "    .dataframe tbody tr th:only-of-type {\n",
       "        vertical-align: middle;\n",
       "    }\n",
       "\n",
       "    .dataframe tbody tr th {\n",
       "        vertical-align: top;\n",
       "    }\n",
       "\n",
       "    .dataframe thead th {\n",
       "        text-align: right;\n",
       "    }\n",
       "</style>\n",
       "<table border=\"1\" class=\"dataframe\">\n",
       "  <thead>\n",
       "    <tr style=\"text-align: right;\">\n",
       "      <th></th>\n",
       "      <th>0</th>\n",
       "    </tr>\n",
       "  </thead>\n",
       "  <tbody>\n",
       "    <tr>\n",
       "      <th>0</th>\n",
       "      <td>0.128957</td>\n",
       "    </tr>\n",
       "    <tr>\n",
       "      <th>1</th>\n",
       "      <td>0.351700</td>\n",
       "    </tr>\n",
       "    <tr>\n",
       "      <th>2</th>\n",
       "      <td>0.439625</td>\n",
       "    </tr>\n",
       "    <tr>\n",
       "      <th>3</th>\n",
       "      <td>0.153576</td>\n",
       "    </tr>\n",
       "    <tr>\n",
       "      <th>4</th>\n",
       "      <td>0.175850</td>\n",
       "    </tr>\n",
       "    <tr>\n",
       "      <th>...</th>\n",
       "      <td>...</td>\n",
       "    </tr>\n",
       "    <tr>\n",
       "      <th>995</th>\n",
       "      <td>0.044549</td>\n",
       "    </tr>\n",
       "    <tr>\n",
       "      <th>996</th>\n",
       "      <td>0.279015</td>\n",
       "    </tr>\n",
       "    <tr>\n",
       "      <th>997</th>\n",
       "      <td>0.717468</td>\n",
       "    </tr>\n",
       "    <tr>\n",
       "      <th>998</th>\n",
       "      <td>0.377491</td>\n",
       "    </tr>\n",
       "    <tr>\n",
       "      <th>999</th>\n",
       "      <td>0.135991</td>\n",
       "    </tr>\n",
       "  </tbody>\n",
       "</table>\n",
       "<p>1000 rows × 1 columns</p>\n",
       "</div>"
      ],
      "text/plain": [
       "            0\n",
       "0    0.128957\n",
       "1    0.351700\n",
       "2    0.439625\n",
       "3    0.153576\n",
       "4    0.175850\n",
       "..        ...\n",
       "995  0.044549\n",
       "996  0.279015\n",
       "997  0.717468\n",
       "998  0.377491\n",
       "999  0.135991\n",
       "\n",
       "[1000 rows x 1 columns]"
      ]
     },
     "execution_count": 22,
     "metadata": {},
     "output_type": "execute_result"
    }
   ],
   "source": [
    "scaled_y = sy.fit_transform(df['Risk'].values.reshape(df.shape[0],1))\n",
    "\n",
    "scaled_y1 = pd.DataFrame(scaled_y)\n",
    "scaled_y1"
   ]
  },
  {
   "cell_type": "markdown",
   "id": "7241fe0f",
   "metadata": {},
   "source": [
    "## Batch Gradient Descent"
   ]
  },
  {
   "cell_type": "code",
   "execution_count": 23,
   "id": "2f2ec386",
   "metadata": {},
   "outputs": [
    {
     "data": {
      "text/plain": [
       "(array([0.13622   , 0.11525734, 0.18675859, 0.20571822, 0.13999538,\n",
       "        0.49127864, 0.42727911, 0.31538332, 0.20502563]),\n",
       " -0.9041257228093981,\n",
       " 0.03315477866950137)"
      ]
     },
     "execution_count": 23,
     "metadata": {},
     "output_type": "execute_result"
    }
   ],
   "source": [
    "def batch_gradient_descent(X, y_true, epochs, learning_rate = 0.01):\n",
    "    number_of_features = X.shape[1]\n",
    "    w = np.ones(shape = (number_of_features))\n",
    "    b = 0\n",
    "    total_samples = X.shape[0]\n",
    "    \n",
    "    cost_list = []\n",
    "    epoch_list = []\n",
    "    \n",
    "    for i in range(epochs):\n",
    "        y_predicted = np.dot(w, scaled_X.T) + b\n",
    "        \n",
    "        w_grad = -(2/total_samples)*(X.T.dot(y_true - y_predicted))\n",
    "        b_grad = -(2/total_samples) * np.sum(y_true - y_predicted)\n",
    "        \n",
    "        w = w - learning_rate * w_grad\n",
    "        b = b - learning_rate * b_grad\n",
    "        \n",
    "        cost  = np.mean(np.square(y_true - y_predicted))\n",
    "        \n",
    "        if i % 10 == 0:\n",
    "            cost_list.append(cost)\n",
    "            epoch_list.append(i)\n",
    "    return w, b, cost, cost_list, epoch_list\n",
    "\n",
    "w, b, cost, cost_list, epoch_list = batch_gradient_descent(scaled_X, scaled_y.reshape(scaled_y.shape[0],),500)\n",
    "w, b, cost"
   ]
  },
  {
   "cell_type": "code",
   "execution_count": 24,
   "id": "02ac22a3",
   "metadata": {},
   "outputs": [
    {
     "data": {
      "text/plain": [
       "[<matplotlib.lines.Line2D at 0x28bd67d7640>]"
      ]
     },
     "execution_count": 24,
     "metadata": {},
     "output_type": "execute_result"
    },
    {
     "data": {
      "image/png": "[encoded data removed]",
      "text/plain": [
       "<Figure size 432x288 with 1 Axes>"
      ]
     },
     "metadata": {
      "needs_background": "light"
     },
     "output_type": "display_data"
    }
   ],
   "source": [
    "plt.xlabel(\"epoch\")\n",
    "plt.ylabel(\"cost\")\n",
    "plt.plot(epoch_list, cost_list)"
   ]
  },
  {
   "cell_type": "code",
   "execution_count": 38,
   "id": "59158bbe",
   "metadata": {},
   "outputs": [
    {
     "data": {
      "text/plain": [
       "52.550130720400425"
      ]
     },
     "execution_count": 38,
     "metadata": {},
     "output_type": "execute_result"
    }
   ],
   "source": [
    "def predict(isMale, isBlack , isSmoker, isDiabetic, isHypertensive, Age, Systolic, Cholesterol, HDL, w, b):\n",
    "    scaled_X = sx.transform([[isMale, isBlack , isSmoker, isDiabetic, isHypertensive, Age, Systolic, Cholesterol, HDL]])[0]\n",
    "    \n",
    "    scaled_Risk = w[0]*scaled_X[0] + w[1]*scaled_X[1] + w[2]*scaled_X[2] + w[3]*scaled_X[3] + w[4]*scaled_X[4] + w[5]*scaled_X[5] + w[6]*scaled_X[6] + w[7]*scaled_X[7] + w[8]*scaled_X[8] + b\n",
    "    return sy.inverse_transform([[scaled_Risk]])[0][0]\n",
    "\n",
    "predict(1,1,1,0,1,72,167,142,92,w,b)"
   ]
  },
  {
   "cell_type": "code",
   "execution_count": 37,
   "id": "3270f0c9",
   "metadata": {},
   "outputs": [
    {
     "data": {
      "text/plain": [
       "28.62779874097199"
      ]
     },
     "execution_count": 37,
     "metadata": {},
     "output_type": "execute_result"
    }
   ],
   "source": [
    "predict(0,0,0,1,1,71,160,151,73,w,b)"
   ]
  },
  {
   "cell_type": "code",
   "execution_count": 40,
   "id": "232345f4",
   "metadata": {},
   "outputs": [
    {
     "data": {
      "text/plain": [
       "68.2404106964264"
      ]
     },
     "execution_count": 40,
     "metadata": {},
     "output_type": "execute_result"
    }
   ],
   "source": [
    "predict(1,1,1,1,1,57,186,165,88,w,b)"
   ]
  },
  {
   "cell_type": "markdown",
   "id": "785bb14e",
   "metadata": {},
   "source": [
    "## Stochastic Gradient Descent"
   ]
  },
  {
   "cell_type": "code",
   "execution_count": 41,
   "id": "4a88d03a",
   "metadata": {},
   "outputs": [
    {
     "data": {
      "text/plain": [
       "(array([0.65948703, 0.63672732, 0.64639168, 0.64333383, 0.65736138,\n",
       "        0.68819418, 0.68432924, 0.68733621, 0.67489854]),\n",
       " -0.619050166272831,\n",
       " 4.913302861375267)"
      ]
     },
     "execution_count": 41,
     "metadata": {},
     "output_type": "execute_result"
    }
   ],
   "source": [
    "import random\n",
    "\n",
    "def stochastic_gradient_descent(X, y_true, epochs, learning_rate = 0.01):\n",
    "    number_of_features = X.shape[1]\n",
    "    w = np.ones(shape = (number_of_features))\n",
    "    b = 0\n",
    "    total_samples = X.shape[0]\n",
    "    \n",
    "    cost_list = []\n",
    "    epoch_list = []\n",
    "    \n",
    "    for i in range(epochs):\n",
    "        random_index = random.randint(0,total_samples-1)\n",
    "        sample_x = X[random_index]\n",
    "        sample_y = y_true[random_index]\n",
    "        y_predicted = np.dot(w, sample_x.T) + b\n",
    "        \n",
    "        w_grad = -(2/total_samples)*(sample_x.T.dot(sample_y-y_predicted))\n",
    "        b_grad = -(2/total_samples)*(sample_y-y_predicted)\n",
    "        \n",
    "        w = w - learning_rate * w_grad\n",
    "        b = b - learning_rate * b_grad\n",
    "        \n",
    "        cost = np.square(sample_y-y_predicted)\n",
    "        \n",
    "        if i%100==0:\n",
    "            cost_list.append(cost)\n",
    "            epoch_list.append(i)\n",
    "    return w, b, cost, cost_list, epoch_list\n",
    "\n",
    "w_sgd, b_sgd, cost_sgd, cost_list_sgd, epoch_list_sgd = stochastic_gradient_descent(scaled_X, scaled_y.reshape(scaled_y.shape[0],), 10000)\n",
    "w_sgd, b_sgd, cost_sgd"
   ]
  },
  {
   "cell_type": "code",
   "execution_count": 42,
   "id": "f416f8e3",
   "metadata": {},
   "outputs": [
    {
     "data": {
      "text/plain": [
       "[<matplotlib.lines.Line2D at 0x28bd4ba7b20>]"
      ]
     },
     "execution_count": 42,
     "metadata": {},
     "output_type": "execute_result"
    },
    {
     "data": {
      "image/png": "[encoded data removed]",
      "text/plain": [
       "<Figure size 432x288 with 1 Axes>"
      ]
     },
     "metadata": {
      "needs_background": "light"
     },
     "output_type": "display_data"
    }
   ],
   "source": [
    "plt.xlabel(\"epoch\")\n",
    "plt.ylabel(\"cost\")\n",
    "plt.plot(epoch_list_sgd, cost_list_sgd)"
   ]
  },
  {
   "cell_type": "code",
   "execution_count": 43,
   "id": "69784354",
   "metadata": {},
   "outputs": [
    {
     "data": {
      "text/plain": [
       "378.72945306674745"
      ]
     },
     "execution_count": 43,
     "metadata": {},
     "output_type": "execute_result"
    }
   ],
   "source": [
    "predict(1,1,1,1,1,57,186,165,88,w_sgd, b_sgd)"
   ]
  },
  {
   "cell_type": "code",
   "execution_count": 45,
   "id": "421b4800",
   "metadata": {},
   "outputs": [
    {
     "data": {
      "text/plain": [
       "197.78058153972717"
      ]
     },
     "execution_count": 45,
     "metadata": {},
     "output_type": "execute_result"
    }
   ],
   "source": [
    "predict(0,0,0,1,1,71,160,151,73,w_sgd,b_sgd)"
   ]
  }
 ],
 "metadata": {
  "kernelspec": {
   "display_name": "Python 3",
   "language": "python",
   "name": "python3"
  },
  "language_info": {
   "codemirror_mode": {
    "name": "ipython",
    "version": 3
   },
   "file_extension": ".py",
   "mimetype": "text/x-python",
   "name": "python",
   "nbconvert_exporter": "python",
   "pygments_lexer": "ipython3",
   "version": "3.8.8"
  }
 },
 "nbformat": 4,
 "nbformat_minor": 5
}
